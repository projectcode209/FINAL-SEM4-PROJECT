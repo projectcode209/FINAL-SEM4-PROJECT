{
 "cells": [
  {
   "cell_type": "code",
   "execution_count": 1,
   "id": "a0415b59-c676-48a3-883c-7fc7f314c2a0",
   "metadata": {},
   "outputs": [],
   "source": [
    "import pandas as pd\n"
   ]
  },
  {
   "cell_type": "code",
   "execution_count": 16,
   "id": "4ca87d40-0820-4d49-9acf-1d455bfa6c32",
   "metadata": {},
   "outputs": [],
   "source": [
    "df = pd.read_csv(\"UpdatedResumeDataset.csv\")\n"
   ]
  },
  {
   "cell_type": "code",
   "execution_count": 18,
   "id": "ba0801db-390d-46da-af8b-47b71584186f",
   "metadata": {},
   "outputs": [
    {
     "data": {
      "text/html": [
       "<div>\n",
       "<style scoped>\n",
       "    .dataframe tbody tr th:only-of-type {\n",
       "        vertical-align: middle;\n",
       "    }\n",
       "\n",
       "    .dataframe tbody tr th {\n",
       "        vertical-align: top;\n",
       "    }\n",
       "\n",
       "    .dataframe thead th {\n",
       "        text-align: right;\n",
       "    }\n",
       "</style>\n",
       "<table border=\"1\" class=\"dataframe\">\n",
       "  <thead>\n",
       "    <tr style=\"text-align: right;\">\n",
       "      <th></th>\n",
       "      <th>Category</th>\n",
       "      <th>Resume</th>\n",
       "    </tr>\n",
       "  </thead>\n",
       "  <tbody>\n",
       "    <tr>\n",
       "      <th>0</th>\n",
       "      <td>Data Science</td>\n",
       "      <td>Skills * Programming Languages: Python (pandas...</td>\n",
       "    </tr>\n",
       "    <tr>\n",
       "      <th>1</th>\n",
       "      <td>Data Science</td>\n",
       "      <td>Education Details \\r\\nMay 2013 to May 2017 B.E...</td>\n",
       "    </tr>\n",
       "  </tbody>\n",
       "</table>\n",
       "</div>"
      ],
      "text/plain": [
       "       Category                                             Resume\n",
       "0  Data Science  Skills * Programming Languages: Python (pandas...\n",
       "1  Data Science  Education Details \\r\\nMay 2013 to May 2017 B.E..."
      ]
     },
     "execution_count": 18,
     "metadata": {},
     "output_type": "execute_result"
    }
   ],
   "source": [
    "df.head(2)"
   ]
  },
  {
   "cell_type": "code",
   "execution_count": 20,
   "id": "799863ea-1703-46eb-8428-d610c5bdd67b",
   "metadata": {},
   "outputs": [
    {
     "data": {
      "text/plain": [
       "Index(['Category', 'Resume'], dtype='object')"
      ]
     },
     "execution_count": 20,
     "metadata": {},
     "output_type": "execute_result"
    }
   ],
   "source": [
    "df.columns\n"
   ]
  },
  {
   "cell_type": "code",
   "execution_count": 26,
   "id": "f54ec35b-02fb-4013-8021-004b010f5956",
   "metadata": {},
   "outputs": [
    {
     "data": {
      "text/plain": [
       "Resume\n",
       "Technical Skills Web Technologies: Angular JS, HTML5, CSS3, SASS, Bootstrap, Jquery, Javascript. Software: Brackets, Visual Studio, Photoshop, Visual Studio Code Education Details \\r\\nJanuary 2015 B.E CSE Nagpur, Maharashtra G.H.Raisoni College of Engineering\\r\\nOctober 2009  Photography Competition Click Nagpur, Maharashtra Maharashtra State Board\\r\\n    College Magazine OCEAN\\r\\nWeb Designer \\r\\n\\r\\nWeb Designer - Trust Systems and Software\\r\\nSkill Details \\r\\nPHOTOSHOP- Exprience - 28 months\\r\\nBOOTSTRAP- Exprience - 6 months\\r\\nHTML5- Exprience - 6 months\\r\\nJAVASCRIPT- Exprience - 6 months\\r\\nCSS3- Exprience - Less than 1 year months\\r\\nAngular 4- Exprience - Less than 1 year monthsCompany Details \\r\\ncompany - Trust Systems and Software\\r\\ndescription - Projects worked on:\\r\\n1. TrustBank-CBS\\r\\nProject Description: TrustBank-CBS is a core banking solution by Trust Systems.\\r\\nRoles and Responsibility:\\r\\nâ Renovated complete UI to make it more modern, user-friendly, maintainable and optimised for bank use.\\r\\nâ Shared the UI structure and guidelines to be incorporated, with development team of around 50\\r\\nmembers.\\r\\nâ Achieved the target of project completion in given time frame.\\r\\nâ Made required graphics for the project in photoshop\\r\\n\\r\\n2. Loan Bazar (Loan Appraisal)\\r\\nProject Description: Loan Bazar is a MVC-based application dedicated to creating and managing\\r\\nloan applications. The goal of this application is to streamline the process of loan application and integrate with existing CBS.\\r\\nRoles and Responsibility\\r\\nâ Designed and developed modern and responsive UI of entire application and achieved the target in given time frame.\\r\\nâ Made required graphics for the project in photoshop\\r\\n3. Capital Security Bond Application\\r\\nProject Description: Capital Security Bond Application is a MVC based application which provided an online platform to purchase gold bond\\r\\nRoles and Responsibility:\\r\\nâ Designed and developed modern and responsive UI of entire application and achieved the target in given time frame.\\r\\nâ Made required graphics for the project in photoshop\\r\\n\\r\\n4. SoftGST\\r\\nProject Description: SoftGST (Web Based Application) is an ASP application to every tax\\r\\npayers and its vendors for generating the GSTR returns on the basis of sales / purchase\\r\\ndata, additionally the application can do the reconciliation of GSTR 2 A with purchase register.\\r\\nRoles and Responsibility:\\r\\nâ Designed and developed the UI of Dashboard.\\r\\n\\r\\n5. Trust Analytica:\\r\\nProject Description: Trust Analytika is the mobile web app that shows bank asset, liability,\\r\\nincome, expenses.\\r\\nRoles and Responsibility:\\r\\nâ Designed and developed the landing page of the application.\\r\\nâ Supported the developers in UI implementation\\r\\n\\r\\n6. Website's:\\r\\nProject Name:\\r\\n1. TSR Technology Services - http://tsrtechnologyservices.com\\r\\n2. Vidarbha Merchants Urban Co-Op Bank - http://vmcbank.com\\r\\n3. GISSS - http://gisss.co.in\\r\\n4. Softtrust USA - http://softtrustusa.com\\r\\nRoles and Responsibility\\r\\nâ Communicated with clients to understand their requirement\\r\\nâ Made mocks for the website\\r\\nâ Designed and developed complete website and hosted them in stipulated time.\\r\\ncompany - www.jalloshband.com\\r\\ndescription - Project Name:\\r\\n1. Jallosh Band - www.jalloshband.com\\r\\n2. An Endeavor Foundation\\r\\nRoles and Responsibility:\\r\\nâ Communicated with clients to understand their requirement\\r\\nâ Made mocks for the website\\r\\nâ Designed and developed complete website and hosted them in stipulated time.\\r\\ncompany - 10MagicalFingers\\r\\ndescription - National and international client interaction.\\r\\nâ Management of digital data                                                                                                                                                                                                                                                                                                                                                                                                                                                                                                                                                                                                                                                                                                                                                                                                                                                                                                                                                                                                                                                                                                                                                                                                                                                                                                                                                                                                                                                                                                                                                                                                                                                                                                                                                                                                                                                                                                                                                                                                                                                                                                                                                                                                                                                                                                                                                                                                                                                                                                                                                                                                                                                                                                                                                                                                                                                                                                                                                                                                                                                                                                                                                                                                                                                                                                                                                                                                                                                                                                                                                                                                                                                                                                                                                                                                                                                                                                                                                                                                                                                                                                                                                                                                                                                                                                                                                                                                                                                                                                                                                                                                                                                                                                                                                                                                                                                                                                                                                                                                     18\n",
       "Skills VISA B1-VISA (USA) Onsite Visits to Sweden & US (Seattle) Education Details \\r\\nJanuary 2013 Post Graduate Diploma Information Technology Pune, Maharashtra Symbiosis Institute\\r\\nJanuary 2007 Bachelor of Engineering Electronics and Telecommunications Pune, Maharashtra Pune University\\r\\nCloud Operations Architect (DevOps) \\r\\n\\r\\nCloud Operations Architect (DevOps) - DevOps\\r\\nSkill Details \\r\\nCloud Computing- Exprience - 48 months\\r\\nShell Scripting- Exprience - 96 months\\r\\nPython- Exprience - 6 months\\r\\nAutomation- Exprience - 72 months\\r\\nSolution Architect- Exprience - Less than 1 year months\\r\\nAzure- Exprience - Less than 1 year months\\r\\nAWS- Exprience - Less than 1 year monthsCompany Details \\r\\ncompany - DevOps\\r\\ndescription - Type: DevOps Engineer.\\r\\nPlatform: AWS Cloud, Azure Cloud.\\r\\nServices: AWS EC2, RDS, CloudFormation Template, Lambda, Dynamo DB,\\t\\tCloud Watch, Auto-scaling, Elastic Bean stalk, Appdynamics.\\r\\n\\r\\nHere I manage Tibco Spotfire enterprise & Cloud Product support. Being the only Ops member in India I got a chance to recruit & build entire team of 15 members. I also worked on 4 different Projects / products simultaneously and added the hired members into these products.\\r\\n\\r\\nMy responsibilities in this project include:\\r\\n1. Managing Tibco Spotfire Enterprise & Cloud environment.\\r\\n2. Helping India QA team with the pre-production environment for testing.\\r\\n3. Coordinating production deployment & hot-fixes.\\r\\n4. Leading the team and handling 4-projects.\\r\\n5. Arranging workshops over new AWS services for entire Team.\\r\\n\\r\\nShell scripts for Automation:\\r\\n\\r\\nâ¢ Wrote shell script to extract the AWS running instances and shut it down.\\r\\nâ¢ Wrote shell script to extract free EIP and release those.\\r\\nâ¢ Wrote Lambda function to trigger important scripts.\\r\\ncompany - Synechron Technologies Limited\\r\\ndescription - Type: Administration, automation & Monitoring.\\r\\nPlatform: Linux/Unix, Linux-Xen Servers,\\r\\nSoftware: Puppet, Redhat Satellite server, my-sql database shell scripting.\\r\\n\\r\\nMy responsibilities in this project included:\\r\\n1. Managing linux media servers farms and provide application support.\\r\\n2. Patching Linux physical and xen boxes.\\r\\n3. Creating Satellite channels on Satellite server.\\r\\n4. Automation via shell scripting and mysql DB support.\\r\\n5. Troubleshooting the customized applications.\\r\\ncompany - Tsys Limited\\r\\ndescription - Type: Development, automation & Monitoring.\\r\\nPlatform: Linux/Unix, windows\\r\\nSoftware: mysql database, shell scripting.\\r\\n\\r\\nHere my responsibility was to provide access to the users on RHDS, Cvs and dot project servers.\\r\\nIt also included providing access to users on dev/prod VDI servers. Handling mysql database and shell scripting to automate the tasks.\\r\\n\\r\\nMy responsibilities in this project included:\\r\\n1. Requirements and Analysis: Understanding the requirements of the project and planning the environment and the access required.\\r\\n2. Implementing mysql replication over linux servers.\\r\\n3. Fine tuning the existing applications.\\r\\n4. Testing & debugging the scripts for any errors.\\r\\ncompany - Patni Computer Systems Limited\\r\\ndescription - Project: CPI\\r\\nType: Development, automation & Monitoring.\\r\\nPlatform: P8 Filenet, Linux/Unix, IBM AIX\\r\\nSoftware: Sound knowledge of HTML, shell scripting.\\r\\nClient: Genworth Financial\\r\\nDuration: 2 yrs 2 months.\\r\\nRole: Senior System Engineer\\r\\n\\r\\nCPI is a Maintenance Project that caters to maintenance/enhancements of different applications, which are a part of Genworth Imaging Solutions. It has different applications that process the scanned Insurance documents sent from different Providers and stores the information in Oracle Database and images in P8 Filenet. It has multiple applications to generate reports to be sent to providers.\\r\\n\\r\\nAdministration Support:\\r\\nâ¢ Providing support to the L1 engineers.\\r\\nâ¢ Monitoring P8 Filenet application.\\r\\nâ¢ Handling Tickets raised by the users.\\r\\nâ¢ Administration of the 10 Linux Proxy servers and mysql servers.\\r\\nâ¢ Implementing mysql replication.\\r\\nâ¢ Checking the logs of the sites visited by the users and the data downloaded.\\r\\n\\r\\nMysql / Oracle / SQL Support:\\r\\nâ¢ Preparing SQL queries for the client users.\\r\\nâ¢ Handling Oracle database.\\r\\nâ¢ Testing insert, select, update queries over servers and deploying over production.\\r\\nâ¢ Handling the bugs raised by the users.\\r\\nâ¢ Implementing mysql replication over linux servers.\\r\\nâ¢ Taking database backup through mysql dump.\\r\\n\\r\\nApplication Support:\\r\\nâ¢ To make sure that the customer applications like eProcess, Trexo are working fine.\\r\\nâ¢ To make sure all the customized filenet instances are working fine.\\r\\nâ¢ Writing scripts to automate few of the applications.\\r\\n\\r\\nShell scripts for Automation:\\r\\nâ¢ Wrote shell script to delete the logs older than five days which was successfully deployed over Production servers.                                                                                                                                                                                                                                                                                                                                                                                                                                                                                                                                                                                                                                                                                                                                                                                                                                                                                                                                                                                                                                                                                                                                                                                                                                                                                                                                                                                                                                                                                                                                                                                                                                                                                                                                                                                                                                                                                                                                                                                                                                                                                                                                                                                                                                                                                                                                                                                                                                                                                                                                                                                                                                                                                                                                                                                                                                                                                                                                                                                                                                                                                                                                                                                                                                                                                                                                                                                                                                                                                                                                                                                                                                                                                         17\n",
       "Software Proficiency: â¢ Languages: Basics of C, SQL, PL/SQL,JAVA,JAVAEE,Javascript,HTML,CSS,jquery,mysql,Spring ,Hibernate. â¢ Software Tools: Xillinx, Modelsim, Matlab, Multisim. â¢ Operating Systems: Windows XP, Vista, 07, 08, Ubuntu. Project Profile: B.E. Project FPGA Implementation of Team Size: 4. Role: Programmer. AES Algorithm AES is Advanced Encryption Standard which is used in cryptography by which we can protect our data. It encrypted by a Secret Key. T.E. project Sorting Robot. Team Size: 3. Role: Mechanism designer. The TCS 230 sensor sorts the RGB color balls according to their color. Diploma Project RFID Based Student Team Size: 4. Role: Interface. Attendance System Using GSM. In this student show RFID card of his own and then message send via GSM to their parent that his ward is present.Education Details \\r\\nMay 2016 B.E. Savitribai Phule Pune, Maharashtra Pune University\\r\\nMarch 2010 S.S.C   Maharashtra Board\\r\\nDevOps Engineer \\r\\n\\r\\n\\r\\nSkill Details \\r\\nC- Exprience - 6 months\\r\\nC++- Exprience - 6 months\\r\\nSql- Exprience - 6 months\\r\\nPl/Sql- Exprience - 6 months\\r\\nCore Java- Exprience - 6 months\\r\\nJavascript- Exprience - Less than 1 year months\\r\\nHTML- Exprience - Less than 1 year months\\r\\nCSS- Exprience - Less than 1 year months\\r\\nJquery- Exprience - Less than 1 year months\\r\\nJavaEE- Exprience - Less than 1 year months\\r\\nMysql- Exprience - Less than 1 year months\\r\\nPython- Exprience - 6 monthsCompany Details \\r\\ncompany - Parkar Consulting and Labs\\r\\ndescription - I'm working on the DevOps team in Parkar Consulting and Labs. I have hands on the AWS as well as Python                                                                                                                                                                                                                                                                                                                                                                                                                                                                                                                                                                                                                                                                                                                                                                                                                                                                                                                                                                                                                                                                                                                                                                                                                                                                                                                                                                                                                                                                                                                                                                                                                                                                                                                                                                                                                                                                                                                                                                                                                                                                                                                                                                                                                                                                                                                                                                                                                                                                                                                                                                                                                                                                                                                                                                                                                                                                                                                                                                                                                                                                                                                                                                                                                                                                                                                                                                                                                                                                                                                                                                                                                                                                                                                                                                                                                                                                                                                                                                                                                                                                                                                                                                                                                                                                                                                                                                                                                                                                                                                                                                                                                                                                                                                                                                                                                                                                                                                                                                                                                                                                                                                                                                                                                                                                                                                                                                                                                                                                                                                                                                                                                                                                                                                                                                                                                                                                                                                                                                                                                                                                                                                                                                                                                                                                                                                                                                                                                                                                                                                                                                                                                                                                                                                                                                                                                                                                                                                                                                                                                                                                                                                                                                                                     17\n",
       "CORE COMPETENCIES ~ Ant ~ Maven ~ GIT ~ Bitbucket ~ Jenkins ~ Linux ~ Ansible ~ Shell Scripting ~Requirement Gathering ~Continuous Integration and Continuous Deployment ~ Software Development Life Cycle ~ Software Testing Life Cycle ~ Documentation & Reporting ~ Test Reports IT SKILLS â¢ Primary Skills: Dev-ops methodologies â¢ Programming Languages: C, Core Java â¢ Version Controls: GIT, Bitbucket â¢ Build Tools: ANT, Maven â¢ CI/CD Tools: Jenkins â¢ Configuration management: Ansible â¢ Scripting: Shell Script â¢ Application Servers: Apache Tomcat serverEducation Details \\r\\nJune 2015 to June 2017 Masters of science information technology Hyderabad, Telangana JNTU\\r\\nDevops Engineer \\r\\n\\r\\nDevops Engineer - Nendrasys Technologies Pvt Ltd\\r\\nSkill Details \\r\\nDEPLOYMENT- Exprience - 27 months\\r\\nGit- Exprience - 27 months\\r\\nDOCUMENTATION- Exprience - 26 months\\r\\nCHANGE MANAGEMENT- Exprience - 10 months\\r\\nCONFIGURATION MANAGEMENT- Exprience - 10 monthsCompany Details \\r\\ncompany - Nendrasys Technologies Pvt Ltd\\r\\ndescription - Date\\r\\n\\r\\nProject Description:\\r\\nThe Scope of the project is to design & develop e-commerce product features for sloan project. It's a basically B2B project where customer can buy all fixers, sinks related product. It focuses on the company, the stakeholders and applications, which allow for online sales, distribution and marketing of product.\\r\\n\\r\\nResponsibilities:\\r\\no Detailed technical Knowledge and hands-on experience on DevOps, Automation, Build Engineering and Configura -\\r\\ntion Management.\\r\\no Creating fully automated CI build and deployment infrastructure and processes for multiple projects.\\r\\no Developing scripts for build, deployment, maintenance and related tasks using Jenkins.\\r\\no Installing, configuring and maintaining Continuous Integration, Automation and Configuration Management tools.\\r\\no Developing Ant, Maven and Shell scripts to automatically compile, package, deploy WAR, EAR and JAR files of mul- tiple applications to various platforms.\\r\\no Creating Repositories, branches, managing the permissions of users and maintaining GIT, Bitbucket\\r\\no Deploying and maintaining the code and application respectively and configuring the components which increase the re-usability.\\r\\no Working closely with Architecture, Development, Test, Security and IT Services teams.\\r\\no Supporting Business Analysts in getting used to the newly created jobs and Release activities.\\r\\no Communicating daily with On-Site Team\\r\\no Analyzing the requirements and identifying gaps & tracking logs, issues.\\r\\n\\r\\nPROJECT 2\\r\\n\\r\\nNendrasys Technologies Pvt Ltd.,\\r\\nProject Name: Bangkok Bank Limited (BBL) Thaitrade (Commercial, E-commerce & Payment portal)\\r\\ncompany - Nendrasys Technologies Pvt Ltd\\r\\ndescription - Role: Devops Engineer\\r\\nâ¢ Devops Engineer for a team that involved different development teams and multiple simultaneous software re- leases\\r\\nâ¢ Participated in weekly release meetings with different teams to identify and mitigate potential risks associated with the releases.\\r\\nâ¢ Responsible for Creating Repositories, branches, managing the permissions of users and maintaining GIT.\\r\\nâ¢ Creating fully automated CI build and deployment infrastructure and processes for multiple projects.\\r\\nâ¢ Analyze and resolve conflicts related to merging of source code for GIT\\r\\nâ¢ Responsible for creating Ant and Maven scripts for build automation.\\r\\nâ¢ Implemented the setup for Master slave architecture to improve the Performance of Jenkins.\\r\\nâ¢ Handled end-to-end deployments and code propagation's across different environments, DEV to PROD.\\r\\nâ¢ Handled the tasks of developing and maintaining the Change Tasks.\\r\\nâ¢ Closely working with Developers, QA, Performance, UAT testers, IT Team.\\r\\nâ¢ Created and maintained documentation of build and release processes and application configuration\\r\\nâ¢ Coordinated with developers, Business Analyst and Mangers to make sure that code is deployed in the Production\\r\\nenvironment.\\r\\n\\r\\nPROJECT 1\\r\\nNendrasys Technologies Pvt Ltd.,\\r\\nProject Name: Sloan Global Holdings (Sloan) (E-commerce)\\r\\ncompany - Nendrasys Technologies Pvt Ltd\\r\\ndescription - Project Description:\\r\\nBBL is development of an e-commerce payment portal System. As such BBL require a system which can support multiple\\r\\nmerchants B2B/B2C e-commerce portal with various payment options via both online and offline. To achieve this BBL had\\r\\nmade an agreement with Thai Trade, Thai Trade is one of the leading e-commerce website recognized by Thai\\r\\ngovernment. In present Thai trade has a good base of users and sellers in several categories .The scope of the project is to design and develop e-commerce product features for BBLWTP project. It focuses on the company, the stakeholders and\\r\\napplications, which allow for online sales, distribution and marketing of electronics.\\r\\n\\r\\nResponsibilities:\\r\\no Plan and track activities involved for build and deployment.\\r\\no Resolving build issues\\r\\no Developing scripts for build, deployment, maintenance and related tasks using Jenkins.\\r\\no Collaboration with Development, QA, Product managements on build plans & schedules\\r\\no Send daily and weekly reports to the team.\\r\\no Involved in creating repositories, branches, merging activities, backup and restore activities in subversion\\r\\nservers.\\r\\no Maintenance of Maven, shell scripts for safe builds and deploys.                                                                                                                                                                                                                                                                                                                                                                                                                                                                                                                                                                                                                                                                                                                                                                                                                                                                                                                                                                                                                                                                                                                                                                                                                                                                                                                                                                                                                                                                                                                                                                                                                                                                                                                                                                                                                                                                                                                                                                                                                                                                                                                                                                                                                                                                                                                                                                                                                                                                                                                                                                                                                                                                                                                                                                                                                                                                                                                                                                                                                                                                                                                                                                                                       17\n",
       "TECHNICALSKILLS SpringMVC, Hibernate, JDBC, Java, J2EE, AzureWeb SunTechnologies Services, JSP, Struts, Servlet, RestApi. Scripting JavaScript, AJAX, HTML, JSON. OpenSourceTechnologies PHP. Database MsSQL, MySQL, Oracle. WebServers ApacheTomcatServer. Internettechnologiesand OnesignalWebPushNotifications, AzurewebServices, frameworks IONIC, HTML, JSON OperatingSystem WindowsServer2012R2, WinXP/7/8.1/10, Linux, Mac OS Education Details \\r\\nAugust 2013 to July 2016 BE Computer Engineering Nashik, Maharashtra Late G.N. Sapkal COE Nashik\\r\\nJuly 2009 to June 2013 Diploma Computer technology Nashik, Maharashtra K K Wagh Polytechnic  Nashik\\r\\nJava developer \\r\\n\\r\\nJava Developer\\r\\nSkill Details \\r\\nAJAX- Exprience - 12 months\\r\\nDATABASE- Exprience - 24 months\\r\\nHTML- Exprience - 24 months\\r\\nJ2EE- Exprience - 6 months\\r\\nJAVA- Exprience - 24 months\\r\\nSpring MVC- Exprience - 12 months\\r\\nIonic 3- Exprience - 6 months\\r\\nAngular JS- Exprience - 6 months\\r\\nSpring- Exprience - Less than 1 year months\\r\\nJava- Exprience - Less than 1 year monthsCompany Details \\r\\ncompany - Replete business solutions pvt ltd\\r\\ndescription - Working as Java developer in spring MVC, MySQL, MsSql, Java, J2EE, Ajax, Javascript, ionic 3 framework, angular js etc. Technologies.                                                                                                                                                                                                                                                                                                                                                                                                                                                                                                                                                                                                                                                                                                                                                                                                                                                                                                                                                                                                                                                                                                                                                                                                                                                                                                                                                                                                                                                                                                                                                                                                                                                                                                                                                                                                                                                                                                                                                                                                                                                                                                                                                                                                                                                                                                                                                                                                                                                                                                                                                                                                                                                                                                                                                                                                                                                                                                                                                                                                                                                                                                                                                                                                                                                                                                                                                                                                                                                                                                                                                                                                                                                                                                                                                                                                                                                                                                                                                                                                                                                                                                                                                                                                                                                                                                                                                                                                                                                                                                                                                                                                                                                                                                                                                                                                                                                                                                                                                                                                                                                                                                                                                                                                                                                                                                                                                                                                                                                                                                                                                                                                                                                                                                                                                                                                                                                                                                                                                                                                                                                                                                                                                                                                                                                                                                                                                                                                                                                                                                                                                                                                                                                                                                                                                                                                                                                                                                                                                                                                                                                                                                                                                                                                                                                                                                                                                                                                                                                                                                                                                                           12\n",
       "                                                                                                                                                                                                                                                                                                                                                                                                                                                                                                                                                                                                                                                                                                                                                                                                                                                                                                                                                                                                                                                                                                                                                                                                                                                                                                                                                                                                                                                                                                                                                                                                                                                                                                                                                                                                                                                                                                                                                                                                                                                                                                                                                                                                                                                                                                                                                                                                                                                                                                                                                                                                                                                                                                                                                                                                                                                                                                                                                                                                                                                                                                                                                                                                                                                                                                                                                                                                                                                                                                                                                                                                                                                                                                                                                                                                                                                                                                                                                                                                                                                                                                                                                                                                                                                                                                                                                                                                                                                                                                                                                                                                                                                                                                                                                                                                                                                                                                                                                                                                                                                                                                                                                                                                                                                                                                                                                                                                                                                                                                                                                                                                                                                                                                                                                                                                                                                                                                                                                                                                                                                                                                                                                                                                                                                                                                                                                                                                                                                                                                                                                                                                                                                                                                                                                                                                                                                                                                                                                                                                                                                                                                                                                                                                                                                                                                                                                                                                                                                                                                                                                                                                                                                                                                                                                                                                                                                                                                                                                                                                                                                                                                                                                                                                                                                                                                                                                                                                                                                                                                                                                                                                                                                                                                                                                                                                                                                                                                   ..\n",
       "TECHNICAL SKILLS Languages: Core Java Automation Testing Tool: Selenium with web driver and IDE. DBMS: MS SQL Server 2000/2005, Oracle 10g. Operating System: Windows-XP/7/10 Education Details \\r\\n BSCIT   Mumbai University\\r\\nAutomation Tester \\r\\n\\r\\nAutomation and Manual Tester\\r\\nSkill Details \\r\\nDATABASE MANAGEMENT SYSTEM- Exprience - 6 months\\r\\nDBMS- Exprience - 6 months\\r\\nJAVA- Exprience - 6 months\\r\\nMS SQL SERVER- Exprience - 6 months\\r\\nMS SQL SERVER 2000- Exprience - 6 monthsCompany Details \\r\\ncompany - Capgemini India Pvt Ltd\\r\\ndescription - Worked on Manual as well as automation testing.\\r\\nStarted carrier as manual tester then after that moved to automation testing. Now working as automation tester. Worked on Selenium Webdriver.\\r\\ncompany - Na\\r\\ndescription - Currently working with Capgemini, Airoli as Consultant from 06th May 2013 to till the\\r\\ndate.                                                                                                                                                                                                                                                                                                                                                                                                                                                                                                                                                                                                                                                                                                                                                                                                                                                                                                                                                                                                                                                                                                                                                                                                                                                                                                                                                                                                                                                                                                                                                                                                                                                                                                                                                                                                                                                                                                                                                                                                                                                                                                                                                                                                                                                                                                                                                                                                                                                                                                                                                                                                                                                                                                                                                                                                                                                                                                                                                                                                                                                                                                                                                                                                                                                                                                                                                                                                                                                                                                                                                                                                                                                                                                                                                                                                                                                                                                                                                                                                                                                                                                                                                                                                                                                                                                                                                                                                                                                                                                                                                                                                                                                                                                                                                                                                                                                                                                                                                                                                                                                                                                                                                                                                                                                                                                                                                                                                                                                                                                                                                                                                                                                                                                                                                                                                                                                                                                                                                                                                                                                                                                                                                                                                                                                                                                                                                                                                                                                                                                                                                                                                                                                                                                                                                                                                                                                                                                                                                                                                                                                                                                                                                                                                                                                                                                                                                                                                                                                                                                                                                                                                                                                                                                                                                                                                                                                                                                                                                                                2\n",
       "TECHNICAL SKILLS â¢ HP ALM, RTC and JIRA â¢ AS400 (iSeries) with SQL â¢ Test Automation: X- Framework (In hours HSBC Framework), UFT and LISA â¢ Test Data Automation - CATDM â¢ Test Scheduling - Jenkins and Maven â¢ Test Document Versioning - Confluence and SharePoint.Education Details \\r\\nJanuary 2002 Bachelor of Engineering Computer Engineering Mumbai, MAHARASHTRA, IN Mumbai University\\r\\nJanuary 1999 Diploma Computer Technology Mumbai, MAHARASHTRA, IN Maharashtra State Board of Technical Education\\r\\nProject Manager(Global Test Manager) \\r\\n\\r\\nProject Manager(Global Test Manager)\\r\\nSkill Details \\r\\nAS400- Exprience - 25 months\\r\\nISERIES- Exprience - 25 months\\r\\nMICROSOFT SHAREPOINT- Exprience - 6 months\\r\\nSCHEDULING- Exprience - 6 months\\r\\nSHAREPOINT- Exprience - 6 monthsCompany Details \\r\\ncompany - CAREER TIMELINE\\r\\ndescription - HSBC Software India Pvt. Ltd.Pune, India   Project Manager(Global Test Manager)\\r\\ncompany - Disha Technologies\\r\\ndescription - \\r\\ncompany - Total Solution (I) Pvt. Ltd\\r\\ndescription - Key Deliverables Across The Tenure\\r\\nAs a Global Test Manager/Project Management:\\r\\nâ¢ Acting as Global Test Manager, steering a team of 25+ resources across the globe\\r\\nâ¢ Spearheading the testing teams in India, China, Malaysia and Poland\\r\\nâ¢ Current role involves entire test delivery of large programs under banking domain which includes leading a team comprising of individuals (Client & Vendor) from functional (Regression, Integration) & shared services (Security, Performance, accessibility and Automation) groups\\r\\nâ¢ Defining and devising the \"HSBC Core Banking\" IT Transformation strategies from solution to execution level.\\r\\nâ¢ Experience in latest specialize testing methods - CBIL - API, Conversion, Cloud, Digital UI, Infrastructure, Exploratory and Accessibility Testing.\\r\\nâ¢ Experienced in Planning the OAT and various non-functional like performance and volume testing of Core banking.\\r\\nâ¢ Coordinating with the regional business and testing teams to map their testing approach\\r\\nâ¢ Following with various teams to ensure end to end release is successful and a quality product is delivered to production.\\r\\nâ¢ Steering the Global product testing, regional deployments testing and  extending support for UAT and live proving\\r\\nâ¢ Technical lead to implement the in house \"Test Automation\" framework (X-framework) solution on AS400 (iSeries) system.\\r\\nâ¢ Managing the implementation of Test automation to enable DevOps via tools Cucumber & Selenium (BDD), UFT and TOSCA for function testing\\r\\nâ¢ Leading the CI/CD implementation by executing automated scripts from Jenkins\\r\\nâ¢ Working on Test Data Management by using CA TDM and Internal HSBC Tool)\\r\\nâ¢ Handling tasks pertaining to Resource forecasting, effort estimation and resource on boarding process\\r\\nâ¢ Ensuring seamless communication with vendor partners to arrange for resource onboarding based on the forecasting\\r\\nâ¢ Reviewing the project progress on a daily basis; implementing corrective measures to ensure the project is ontrack\\r\\nâ¢ Overseeing people management tasks comprise monthly 1:1 with leads, reviews\\r\\nâ¢ Providing conflict resolution when required                                                                                                                                                                                                                                                                                                                                                                                                                                                                                                                                                                                                                                                                                                                                                                                                                                                                                                                                                                                                                                                                                                                                                                                                                                                                                                                                                                                                                                                                                                                                                                                                                                                                                                                                                                                                                                                                                                                                                                                                                                                                                                                                                                                                                                                                                                                                                                                                                                                                                                                                                                                                                                                                                                                                                                                                                                                                                                                                                                                                                                                                                                                                                                                                                                                                                                                                                                                                                                                                                                                                                                                                                                                                                                                                                                                                                                                                                                                                                                                                                                                                                                                                                                                                                                                                                                                                                                                                                                                                                                                                                                                                                                                                                                                                                                                                                                                                                                                                                                                                                                                                                                                                                                                                                                                                                                                                                                                                                                                                                                                                      1\n",
       "Total IT Experience 15 years. Core expertise in Data Base Design, PHP, Python, MySql, JavaScript, HTML 5, Ajax, Jquery, XML, Agile Methodology, DevOps Methodology, Scrum Framework, JIRA Tool, GIT, Bitbucket, Anjular JS 1, Angular JS 2, Core Java, J2EE. Education Details \\r\\nApril 2004 MCM Computer Management Pune, Maharashtra Pune University\\r\\nApril 1998 B.Sc Maths  Kerala University\\r\\nProject Manager \\r\\n\\r\\nProject Manager\\r\\nSkill Details \\r\\nData Base Design, PHP, Python, MySql, JavaScript, HTML, Ajax, XML, Agile Methodology, DevOps Methodology, Scrum Framework, JIRA Tool, GIT, Bitbucket, Jquery,  AngularJs, Amazon MWS , Bootstrap, Node.js, Laravel, Scrum- Exprience - 120 monthsCompany Details \\r\\ncompany - Knoxed Infotech Pvt. Ltd.\\r\\ndescription - ï· Client interaction\\r\\nï· Maintain work processes\\r\\nï· Creates project plans through Agile Model & Methodology\\r\\nï· Maintains project objectives\\r\\nï· Working with multi-profiled teams of technical and non technical stakeholders\\r\\nï· Monitors production and quality to customer/stakeholder/sponsor standards\\r\\nï· Conduct office management tasks\\r\\nï· Ensuring that the day-to-day operations of the business run smoothly\\r\\nï· Introducing key performance indicators (KPI's) and ensuring that these measurements are tracked\\r\\nand reviewed on a regular basis\\r\\nï· Prepare, revise and submit weekly-monthly reports, budgets and other documentation as\\r\\nnecessary\\r\\nï· Document current policies and procedures in all departments as well as implement new procedures\\r\\nfor improvement\\r\\nï· Maintain smooth running of the office, filling in where needed\\r\\nï· Implement quality management and regulatory compliance strategies\\r\\nï· Dealing with HR related tasks\\r\\nï· Administering payroll\\r\\nï· Perform training sessions\\r\\nï· Regular meetings with Top Management\\r\\nProject Undertaken : Internal ERP system For Knoxed Ltd, UK, With PHP, Mysql, Ajax, XML,\\r\\nAmazon AWS, Raspberry pi Server, Python.\\r\\ncompany - Venturus International\\r\\ndescription - ï· Client interaction\\r\\nï· Creates project plans through Agile Model & Methodology\\r\\nï· Manage teamâs workload and workflow\\r\\nï· Allocate and track resources as required\\r\\nï· Set and monitor deadlines\\r\\nï· QC\\r\\nï· Maintain tasks and jobs on task management system\\r\\nï· Conduct research and development\\r\\nï· Create new systems, databases and websites as necessary\\r\\nProject Undertaken : Internal ERP system For Knoxed Ltd, UK, With PHP, Mysql, Ajax, XML,\\r\\nAmazon AWS\\r\\ncompany - SmashingDay\\r\\ndescription - ï· Client interaction\\r\\nï· Creates project plans through Agile Model & Methodology\\r\\nï· Manage teamâs workload and workflow\\r\\nï· Allocate and track resources as required\\r\\nï· Set and monitor deadlines\\r\\nï· Project documentation\\r\\nï· Conduct and maintain appraisals and progress of each employee\\r\\nï· Adhere to deadlines as necessary\\r\\nï· Maintain work logs\\r\\nï· Conduct research and development\\r\\nï· Create new systems, databases and websites as necessary\\r\\nProject Undertaken :\\r\\na) www.SmashingDay.com\\r\\nb) www.viralsocials.com\\r\\ncompany - Xento Systems Pvt. Ltd\\r\\ndescription - ï· Client interaction\\r\\nï· Creates project plans through Agile Model & Methodology\\r\\nï· Manage teamâs workload and workflow\\r\\nï· Allocate and track resources as required\\r\\nï· Set and monitor deadlines\\r\\nï· QC\\r\\nï· Maintain tasks and jobs on task management system\\r\\nï· Conduct research and development\\r\\nï· Create new systems, databases and websites as necessary\\r\\nProject Undertaken :\\r\\na) www.familylink.com\\r\\nb) www.propertysolutions.com\\r\\nc) www.speedyceus.com\\r\\nd) www.ceus-nursing.com\\r\\ncompany - STP Global Solutions Pvt. Ltd.\\r\\ndescription - ï· Client interaction\\r\\nï· Creates project plans through Agile Model & Methodology\\r\\nï· Manage teamâs workload and workflow\\r\\nï· Allocate and track resources as required\\r\\nï· Set and monitor deadlines\\r\\nï· Conduct and maintain appraisals and progress of each employee\\r\\nï· QC\\r\\nï· Maintain tasks and jobs on task management system\\r\\nï· Conduct research and development\\r\\nï· Create new systems, databases and websites as necessary\\r\\nProject Undertaken :\\r\\na) www.stplafricaonline.com\\r\\nb) www.stplafrica.com\\r\\nc) www.1stexpert.com\\r\\nd) www.jcca-net.org\\r\\ne) www.rimsys.eu\\r\\nf) www.prayerlister.org\\r\\ncompany - Promark Infotech Pvt. Ltd\\r\\ndescription - ï· Development & Design\\r\\nï· Create new systems, databases and websites as necessary\\r\\nProject Undertaken :\\r\\na) www.justbe.com/\\r\\nb) www.mtpian.com/\\r\\nc) www.sababa.nl/booking/\\r\\nd) www.physicaltherapy-hiu.com\\r\\ncompany - 7cees Group\\r\\ndescription - ï· Development & Design\\r\\nï· Create new systems, databases and websites as necessary\\r\\nProject Undertaken :\\r\\na) Golwin-reality\\r\\nb) Maza                                                                                                                                                                                                                                                                                                                                                                                                                                                                                                                                                                                                                                                                                                                                                                                                                                                                                                                                                                                                                                                                                                                                                                                                                                                                                                                                                                                                                                                                                                                                                                                                                                                                                                                                                                                                                                                                                                                                                                                                                                                                                                                                                                                                                                                                                                                                                                                                                                                                                                                                                                                                                                                                                                                                                                                                                                                                                                                                                                                                                                                                                                                                                                                                                                                                                                                                                                                                                                                                                                                                                                                                                                                                                                                                                                                                                                                           1\n",
       "Core skills â¢ Project / Program Management â¢ Agile / Scrum Management â¢ Risk /Client Management â¢ Process Improvements â¢ Proposals/RFE â¢ Selenium â¢ RALLY / IBM TD Platform â¢ Python â¢ DevOps / DevSecOps â¢ SAFe - Agile Craft â¢ Delivery / Test Management â¢ Project / Program Finance â¢ Profit Maximization â¢ Internal / External Audits â¢ Software Testing / Quality Assurance â¢ Visual Basic 6.0 â¢ MS-SQL Server / Oracle 8/8i â¢ Conformiq â¢ HP QC / QTP â¢ Crystal Report 8.5 Linguistic Skills English Hindi Marathi Tulu Education Details \\r\\nJanuary 2013    Harvard\\r\\nJanuary 2004  Software Engineering  Aptech\\r\\nJanuary 2001 Bachelor of Commerce Commerce Mumbai, Maharashtra Mumbai University\\r\\nProject Manager \\r\\n\\r\\nProject Manager - AT&T\\r\\nSkill Details \\r\\nTESTING- Exprience - 63 months\\r\\nORACLE- Exprience - 6 months\\r\\nSQL- Exprience - 6 months\\r\\nAUDITS- Exprience - 6 months\\r\\nCLIENT MANAGEMENT- Exprience - 6 monthsCompany Details \\r\\ncompany - AT&T\\r\\ndescription - Thunderbird program is a One-Stop-Test-Shop catering to AT&T's Enterprise-wide business critical applications. As part of this Fixed Price engagement various types of testing like System, Regression, Sanity and UAT support gets executed through Agile Methodologies on applications under Billing and Sales domain. The project has various critical applications as listed below with a team size of 80+ members.\\r\\nSales Express: An iPad & Browser based Mobile Sales application used by Sales Representatives & Service/Solution providers to sell Enterprise Products/Solutions\\r\\nESIGN: Allows customer to sign and AT&T to countersign digital version of contract document\\r\\nAMPD: Enterprise billing application through which AT&T offers new and emerging billing products to the Business community\\r\\nBEST: Business Solution application which performs consolidated billing and reporting for CRU Billing and Reporting Foundation Accounts\\r\\nBIZCOMP: Comp Engine for business that supports the commission calculations for Enterprise Business and Small-Business sales force via Revenue and Unit based plans\\r\\nFAST: Provides rate discounts to eligible Schools and Libraries\\r\\nCXMT: Lets customers manage their Centrex line and feature arrangements of their services without going through the standard service-order procedure.\\r\\n\\r\\nKey responsibilities\\r\\nâ¢ Manage and lead all aspects of Transition / Pre-Transition comprising multiple vendors\\r\\nâ¢ Transition Drill down sessions, Forward/Reverse Shadow phases and Reverse Presentation\\r\\nâ¢ Transition Documentation & signoff of SMP & System Appreciation Document etc\\r\\nâ¢ Measure & track testing metrics scorecard as part of Vendor Quality Index (VQI) initiative of AT&T\\r\\nâ¢ Measure and track operating metrics like Onsite Subcon Index, Offshoring Index, Leakage Index, Utilization Index and Tail Index\\r\\nâ¢ Manage, Track and Submit Project Monthly Financials & Invoicing\\r\\nâ¢ Ensure 100% compliance to client / organization's quality and security processes, policies and SLAs\\r\\nâ¢ Plan, manage and mitigate Risks\\r\\nâ¢ Achieve Automation targets and SLAs using ConformiQ, Selenium & Oscar Tools\\r\\nâ¢ Participate in proposal preparations to expand revenue and new business developments\\r\\nâ¢ Manage & Track Work Allocation, Resourcing, Issue Resolution and Testing activities for the project\\r\\nâ¢ Ensure Monthly Delivery / TL9K Metrics and CSL-KMs are submitted on time\\r\\nâ¢ PMR, Internal Quality / Security Group, SQA, Quality Gates and external Ernst & Young / TL9K Audit\\r\\nâ¢ Share weekly highlight reports, Project Health Report and regular Dashboard Reporting activities\\r\\nâ¢ Prepare CSAT action plan for the team\\r\\nâ¢ Prepare and implement Business Continuity Plan for the project\\r\\nâ¢ Timely conduct of Business Continuity drills like Call Tree, Table Top and Project Rehearsal\\r\\nâ¢ Comparative analysis, Root Cause Analysis and Defect Prevention exercises for ST, E2E and UAT\\r\\nâ¢ Coordinate with Resource Management, Quality, Learning, Security, PMO and Business Unit\\r\\nâ¢ Sub-Contractors and Rebadged (Ex-AT&T) staff management\\r\\nâ¢ Participate in external technical interview / hiring drives for new engagements\\r\\ncompany - Esaya Software India Pvt Ltd\\r\\ndescription -                                                                                                                                                                                                                                                                                                                                                                                                                                                                                                                                                                                                                                                                                                                                                                                                                                                                                                                                                                                                                                                                                                                                                                                                                                                                                                                                                                                                                                                                                                                                                                                                                                                                                                                                                                                                                                                                                                                                                                                                                                                                                                                                                                                                                                                                                                                                                                                                                                                                                                                                                                                                                                                                                                                                                                                                                                                                                                                                                                                                                                                                                                                                                                                                                                                                                                                                                                                                                                                                                                                                                                                                                                                                                                                                                                                                                                                                                                                                                                                                                                                                                                                                                                                                                                                                                                                                                                                                                                        1\n",
       "Technical Skills Key Skills MS Technology .Net, SharePoint, MS SQL and Oracle PL/SQL Project Management & Execution Cloud Computing using Windows Azure and Amazon AWS/ EC2 Cloud XML/XAML/XSLT, HTML5, DHTML, CSS3, JavaScript/JQuery/JSON, AngularJS, Web API, OData Service, VBScript, Node JS, Handling Dynamic QA Activities, Project Delivery Frameworks UI Design and Mobile Development, JAVA, JSP, SWING, J2EE Service Oriented Architecture (SOA), Web Service/WCF Service/Web API, Requirement Gathering Design Pattern like MVC, MVP, Abstract Factory OOAD with UML Implementation .NET SAP Connector to interact with SAP through ASP.NET Client Management SAP Web Channel and SAP Enterprise Portal Environment Android, iOS, Team Foundation Server 2010/12(TFS), GitHub, IBM Rational Key Account Management DevOps, Team Forge and SharePoint Portal Administration /Development, CollabNet, JIRA. IOT Implementation, Web/Data analytics, Working with the road map of Machine learning and AI. Expertise BI tools like Crystal report, Escalation Management SSRS, Tableau, Micro Strategy, QlikView. IT Network/Infrastructure Monitoring tool Centreon, Cisco Meraki, BizTalk BAM. Team Building & Leadership Liaison & Coordination Soft Skills Reporting & Documentation Leader Technical architect Time Management Thinker Collaborator Planner Information Security management Communicator Quality assurance Career Timeline (Recent 5 Companies) Reliance ADA Annet Technologies Aditya Birla Group as Software as Project Group as Project consultant Lead/Technical Manager Architect 2006-2007 2008-2009 2009-2012 2012-2013 2013-till date Northbound eClerx Software LLC as Service as Programmer Technical Project Analyst ManagerEducation Details \\r\\nJanuary 1998 Bachelor of Art Economics Dibrugarh, Assam, IN Dibrugarh University\\r\\n MBA Information Technology  Sikkim Manipal University\\r\\n  Software Engineering and Computer Science Pune, Maharashtra NIIT\\r\\nProject Manager \\r\\n\\r\\nProject Manager - Aditya Birla Group\\r\\nSkill Details \\r\\nMICROSOFT SHAREPOINT- Exprience - 147 months\\r\\nSHAREPOINT- Exprience - 147 months\\r\\nSQL- Exprience - 92 months\\r\\nASP- Exprience - 79 months\\r\\nASP.NET- Exprience - 76 monthsCompany Details \\r\\ncompany - Aditya Birla Group\\r\\ndescription - Reporting to Vice President)\\r\\ncompany - OPEX., Monitoring multiple DB server, Web server and Cloud base\\r\\ndescription - Period: Apr 2013 to till Date\\r\\nWorking with: â¢ Project management processes in ongoing projects. Coordinating with different projects Team (Internal\\r\\nDevelopment team and Vendor side team) and other QA activities.\\r\\nâ¢ Information security audit. Budgeting CAPEX/OPEX., Monitoring multiple DB server, Web server and Cloud base servers Resource utilization in Networking infrastructure using different Hardware/Networking surveillance tools.\\r\\nâ¢ Tracking different team projects activities and involved with generating Final monthly report with different KPI for organization higher authority.\\r\\nâ¢   Managing all the SharePoint Portal Admin activities and all the Project Functional, Technical and Business documents.\\r\\nâ¢   Involved in Technology Road map group to upgrade new technology like IOT, Virtual reality, Wearable technology, Machine learning/AI, 3D Printing.\\r\\n\\r\\nAt eClerx Software Service Mumbai\\r\\ncompany - eClerx Software Service\\r\\ndescription - \\r\\ncompany - Dell Site Search/Natural Search DB\\r\\ndescription - Environment: ASP.NET 4.0, C#, WCF, SSRS, SQL Server 2008 R2\\r\\nAt Annet Technologies Mumbai\\r\\ncompany - NextGen Enterprise\\r\\ndescription - ARIA) and 2) Re-manage Portal Integration in Apple iPhone/iPad and Different Android Devices\\r\\nDomain- Real State, Period: Mar 2011 - Oct 2012\\r\\nEnvironment: ASP.NET 4.0, C#, WCF, WWF, JQuery, JSON, JavaScript, HTML 5, CSS3, Windows Azure Cloud, SharePoint\\r\\ncompany - Annet Technologies\\r\\ndescription - Key Result Areas:\\r\\nAdministering project progress as per scheduled deadlines for various tasks and taking necessary steps for ensuring completion within time and effort parameters\\r\\nWorking towards mapping requirements & providing best solutions for evaluating & defining scope of project and finalizing project requirements\\r\\nInterfacing with clients for business gathering, conducting system analysis & finalizing technical specifications\\r\\nVerifying the project documentation (Technical/Functional); using SharePoint Documents Library Environment and performing all the SharePoint administrative activities\\r\\n\\r\\nSignificant Accomplishments:\\r\\nRolled out project performance metrics reporting, implemented profitability improvement plans and enhanced operational efficiency\\r\\nReceived the following awards: o Excellent Design and On-time Delivery Award o Design and Delivery Excellence Award\\r\\n\\r\\nPrevious Experience\\r\\ncompany - Genentech, Biogen, Astellas Pharma, Polaris\\r\\ndescription - Client: Genentech, Biogen, Astellas Pharma, Polaris, New York, USA\\r\\nEnvironment: ASP.NET 3.5, C#, N-Hibernet, WCF, WWF, JavaScript, JQuery, BizTalk Server 2009, SQL Server 2008 R2\\r\\n\\r\\nAt Northbound LLC Sunnyvale California\\r\\ncompany - iOS\\r\\ndescription - SQL Server 2008R2, Android, iOS\\r\\ncompany - Logistic Transport System, Ohio\\r\\ndescription - USA\\r\\nEnvironment: ASP.NET, C# 3.5, JavaScript, NUnit Test, Telerik Controls, SQL Server 2005, T-SQL, MOSS 2007, SSIS,\\r\\nSSRS, BizTalk2006, Crystal Report, N-Hibernet, Dreamweaver\\r\\ncompany - Northbound LLC\\r\\ndescription - \\r\\ncompany - Biz Automation CRM\\r\\ndescription - California, USA\\r\\nEnvironment: ASP.NET 3.5, C#, SQL Server 2005, Android/iOS Development Platform, XML, XSLT, JavaScript, JQuery,\\r\\nJSON, SharePoint Design, WCF, WWF, SharePoint 2007, Performance Point, SSRS\\r\\ncompany - Wachovia, North Carolina USA\\r\\ndescription - Environment: ASP.NET, C#, WCF, SQL Server 2005, Web Parts, JavaScript, AJAX\\r\\n\\r\\nAt Reliance ADA Group Mumbai\\r\\nTitle: 1) Complain Management System and 2) Company Information System\\r\\ncompany - Domain- Manufacturing and Human Resource\\r\\ndescription - Environment: ASP.NET, C#, Oracle 8i, PL/SQL, Crystal Report, SAP Connector, VPN\\r\\ncompany - Reliance ADA Group\\r\\ndescription - \\r\\ncompany - PF Trust System\\r\\ndescription - Environment: VB.NET, XML, Oracle 9i, PL/SQL, Toad, Crystal Report 11\\r\\n\\r\\nSure Solution - Prasanna Group of Company IT Pune\\r\\ncompany - Prasanna Group\\r\\ndescription - \\r\\ncompany - Online Bus Booking Portal\\r\\ndescription - Environment: ASP.NET, C#, SQL Server 2005, Web Services, Web Parts, MS Office SharePoint Design, AJAX and Java cript\\r\\nAt Info Dynamic Software System Pvt. Ltd. Pune\\r\\n\\r\\nTitle: Info-Banking / E Banking\\r\\nDomain- Banking Period: Jan 2005 - Aug 2005\\r\\nEnvironment: VB6, Oracle 8i, PL/SQL, Crystal Report, Java JSP/Servlet/Swing.\\r\\n\\r\\nAt PAN Software System Pvt. Ltd. Pune\\r\\nTitle: E-commerce Site for Online Sales and Purchase\\r\\ncompany - Info Dynamic Software System Pvt. Ltd\\r\\ndescription - \\r\\ncompany - ZD Doll Inc\\r\\ndescription - Newcastle, UK\\r\\ncompany - PAN Software System Pvt. Ltd\\r\\ndescription - \\r\\ncompany - Online Procurement of Materials\\r\\ndescription - \\r\\ncompany - Shipping Company\\r\\ndescription - Tokyo Based, Japan\\r\\nEnvironment: Java, JSP/Servlet, CSS, JavaScript, SQL Server 2000, T-SQL\\r\\nTitle: Studio Automation System\\r\\nDomain- Multimedia Period: Jan 2004 - May 2004\\r\\nEnvironment: VB 6, VC++, MS SQL Server, MS Data Report, Macromedia Flash, Fire works\\r\\n\\r\\nAt Solid State Technologists (I) Pvt. Ltd. Pune\\r\\ncompany - National Dairy Development Board\\r\\ndescription - Environment: C++, VB6, SQL2000, Lotus Notes, Crystal Report 8, MS Active Report 2.0\\r\\ncompany - Solid State Technologists (I) Pvt. Ltd\\r\\ndescription - \\r\\ncompany - Shell/Bharat Petroleum\\r\\ndescription - Title: Computerized Fuel Density Measurement Automation System\\r\\nDomain - Manufacturing and Automation Period: Dec 2002 - Mar 2003\\r\\nClient: Shell/Bharat Petroleum\\r\\nEnvironment: C++, VC ++, MATLAB, VB6, SQL Server 2000, Crystal Report\\r\\n\\r\\nTitle: CMCS\\r\\nDomain - Finance and Accounting Period: June 2002 - Nov 2002\\r\\nEnvironment: VB6, SQL Server 2000, Crystal Report\\r\\n\\r\\nTitle: Food Testing System\\r\\ncompany - Solid State Technologists (I) Pvt. Ltd\\r\\ndescription - Environment: VB .net, SQL Server 2000, Crystal Report\\r\\n\\r\\nTitle: Customer Care System\\r\\ncompany - Himalaya Industries\\r\\ndescription - Environment: ASP .Net, C#, SQL Server 2000, Crystal Report\\r\\ncompany - MAPCO India Ltd and BERCO\\r\\ndescription - Environment: VB6, Oracle, Active/ Data Report     1\n",
       "Name: count, Length: 166, dtype: int64"
      ]
     },
     "execution_count": 26,
     "metadata": {},
     "output_type": "execute_result"
    }
   ],
   "source": [
    "df['Resume'].value_counts()"
   ]
  },
  {
   "cell_type": "code",
   "execution_count": 28,
   "id": "d8c6cbfe-bcd5-49ff-8623-d83c277b3f06",
   "metadata": {},
   "outputs": [
    {
     "data": {
      "text/plain": [
       "Category\n",
       "Java Developer               84\n",
       "Testing                      70\n",
       "DevOps Engineer              55\n",
       "Python Developer             48\n",
       "Web Designing                45\n",
       "HR                           44\n",
       "Hadoop                       42\n",
       "Blockchain                   40\n",
       "ETL Developer                40\n",
       "Operations Manager           40\n",
       "Data Science                 40\n",
       "Sales                        40\n",
       "Mechanical Engineer          40\n",
       "Arts                         36\n",
       "Database                     33\n",
       "Electrical Engineering       30\n",
       "Health and fitness           30\n",
       "PMO                          30\n",
       "Business Analyst             28\n",
       "DotNet Developer             28\n",
       "Automation Testing           26\n",
       "Network Security Engineer    25\n",
       "SAP Developer                24\n",
       "Civil Engineer               24\n",
       "Advocate                     20\n",
       "Name: count, dtype: int64"
      ]
     },
     "execution_count": 28,
     "metadata": {},
     "output_type": "execute_result"
    }
   ],
   "source": [
    "df['Category'].value_counts()"
   ]
  },
  {
   "cell_type": "code",
   "execution_count": 30,
   "id": "d49fe7b0-0ffb-411b-bd18-f4f49eb3adc8",
   "metadata": {},
   "outputs": [],
   "source": [
    "df = pd.read_csv(\"jobs_dataset_with_features.csv\")\n"
   ]
  },
  {
   "cell_type": "code",
   "execution_count": 32,
   "id": "041d559a-5fce-4c87-8275-8b06e98f320c",
   "metadata": {},
   "outputs": [
    {
     "data": {
      "text/plain": [
       "(1615940, 2)"
      ]
     },
     "execution_count": 32,
     "metadata": {},
     "output_type": "execute_result"
    }
   ],
   "source": [
    "df.shape\n"
   ]
  },
  {
   "cell_type": "code",
   "execution_count": 34,
   "id": "6126b348-0829-4b3f-9dc3-19d28ba60639",
   "metadata": {},
   "outputs": [
    {
     "data": {
      "text/html": [
       "<div>\n",
       "<style scoped>\n",
       "    .dataframe tbody tr th:only-of-type {\n",
       "        vertical-align: middle;\n",
       "    }\n",
       "\n",
       "    .dataframe tbody tr th {\n",
       "        vertical-align: top;\n",
       "    }\n",
       "\n",
       "    .dataframe thead th {\n",
       "        text-align: right;\n",
       "    }\n",
       "</style>\n",
       "<table border=\"1\" class=\"dataframe\">\n",
       "  <thead>\n",
       "    <tr style=\"text-align: right;\">\n",
       "      <th></th>\n",
       "      <th>Role</th>\n",
       "      <th>Features</th>\n",
       "    </tr>\n",
       "  </thead>\n",
       "  <tbody>\n",
       "    <tr>\n",
       "      <th>0</th>\n",
       "      <td>Social Media Manager</td>\n",
       "      <td>5 to 15 Years Digital Marketing Specialist M.T...</td>\n",
       "    </tr>\n",
       "    <tr>\n",
       "      <th>1</th>\n",
       "      <td>Frontend Web Developer</td>\n",
       "      <td>2 to 12 Years Web Developer BCA HTML, CSS, Jav...</td>\n",
       "    </tr>\n",
       "    <tr>\n",
       "      <th>2</th>\n",
       "      <td>Quality Control Manager</td>\n",
       "      <td>0 to 12 Years Operations Manager PhD Quality c...</td>\n",
       "    </tr>\n",
       "    <tr>\n",
       "      <th>3</th>\n",
       "      <td>Wireless Network Engineer</td>\n",
       "      <td>4 to 11 Years Network Engineer PhD Wireless ne...</td>\n",
       "    </tr>\n",
       "    <tr>\n",
       "      <th>4</th>\n",
       "      <td>Conference Manager</td>\n",
       "      <td>1 to 12 Years Event Manager MBA Event planning...</td>\n",
       "    </tr>\n",
       "  </tbody>\n",
       "</table>\n",
       "</div>"
      ],
      "text/plain": [
       "                        Role  \\\n",
       "0       Social Media Manager   \n",
       "1     Frontend Web Developer   \n",
       "2    Quality Control Manager   \n",
       "3  Wireless Network Engineer   \n",
       "4         Conference Manager   \n",
       "\n",
       "                                            Features  \n",
       "0  5 to 15 Years Digital Marketing Specialist M.T...  \n",
       "1  2 to 12 Years Web Developer BCA HTML, CSS, Jav...  \n",
       "2  0 to 12 Years Operations Manager PhD Quality c...  \n",
       "3  4 to 11 Years Network Engineer PhD Wireless ne...  \n",
       "4  1 to 12 Years Event Manager MBA Event planning...  "
      ]
     },
     "execution_count": 34,
     "metadata": {},
     "output_type": "execute_result"
    }
   ],
   "source": [
    "df.head()"
   ]
  },
  {
   "cell_type": "code",
   "execution_count": 36,
   "id": "83191fa8-2fe4-41a6-b4b5-579a86fa0376",
   "metadata": {},
   "outputs": [
    {
     "data": {
      "text/plain": [
       "Role\n",
       "Interaction Designer          20580\n",
       "Network Administrator         17470\n",
       "User Interface Designer       14036\n",
       "Social Media Manager          13945\n",
       "User Experience Designer      13935\n",
       "                              ...  \n",
       "Benefits Coordinator           6839\n",
       "Research Analyst               6830\n",
       "Administrative Coordinator     6803\n",
       "IT Support Specialist          6799\n",
       "UI/UX Designer                 6743\n",
       "Name: count, Length: 61, dtype: int64"
      ]
     },
     "execution_count": 36,
     "metadata": {},
     "output_type": "execute_result"
    }
   ],
   "source": [
    "# Dropping classes with less than 6500 instances\n",
    "min_count = 6500\n",
    "role_counts = df['Role'].value_counts()\n",
    "dropped_classes = role_counts[role_counts < min_count].index\n",
    "filtered_df = df[~df['Role'].isin(dropped_classes)].reset_index(drop=True)\n",
    "\n",
    "# Checking the updated role counts\n",
    "filtered_df['Role'].value_counts()"
   ]
  },
  {
   "cell_type": "code",
   "execution_count": 38,
   "id": "a5087f8f-7df0-4419-8592-da13b13b838a",
   "metadata": {},
   "outputs": [
    {
     "data": {
      "text/plain": [
       "61"
      ]
     },
     "execution_count": 38,
     "metadata": {},
     "output_type": "execute_result"
    }
   ],
   "source": [
    "len(filtered_df['Role'].value_counts())"
   ]
  },
  {
   "cell_type": "code",
   "execution_count": 40,
   "id": "2b02a15b-2748-45bd-af63-f6c35e1f37d0",
   "metadata": {},
   "outputs": [],
   "source": [
    "df = filtered_df.sample(n=10000)"
   ]
  },
  {
   "cell_type": "code",
   "execution_count": 42,
   "id": "406c5ded-1527-4be2-a5ea-3d239acffa2e",
   "metadata": {},
   "outputs": [
    {
     "data": {
      "text/html": [
       "<div>\n",
       "<style scoped>\n",
       "    .dataframe tbody tr th:only-of-type {\n",
       "        vertical-align: middle;\n",
       "    }\n",
       "\n",
       "    .dataframe tbody tr th {\n",
       "        vertical-align: top;\n",
       "    }\n",
       "\n",
       "    .dataframe thead th {\n",
       "        text-align: right;\n",
       "    }\n",
       "</style>\n",
       "<table border=\"1\" class=\"dataframe\">\n",
       "  <thead>\n",
       "    <tr style=\"text-align: right;\">\n",
       "      <th></th>\n",
       "      <th>Role</th>\n",
       "      <th>Features</th>\n",
       "    </tr>\n",
       "  </thead>\n",
       "  <tbody>\n",
       "    <tr>\n",
       "      <th>415659</th>\n",
       "      <td>Paralegal</td>\n",
       "      <td>4 to 14 Years Legal Assistant MCA Legal resear...</td>\n",
       "    </tr>\n",
       "    <tr>\n",
       "      <th>258487</th>\n",
       "      <td>Procurement Analyst</td>\n",
       "      <td>5 to 9 Years Procurement Manager MBA Procureme...</td>\n",
       "    </tr>\n",
       "    <tr>\n",
       "      <th>442163</th>\n",
       "      <td>Client Relationship Manager</td>\n",
       "      <td>3 to 8 Years Account Manager M.Com Client rela...</td>\n",
       "    </tr>\n",
       "    <tr>\n",
       "      <th>143736</th>\n",
       "      <td>User Experience Designer</td>\n",
       "      <td>5 to 11 Years UX/UI Designer MCA User-centered...</td>\n",
       "    </tr>\n",
       "    <tr>\n",
       "      <th>143818</th>\n",
       "      <td>Financial Analyst</td>\n",
       "      <td>1 to 8 Years Investment Banker BCA Financial a...</td>\n",
       "    </tr>\n",
       "  </tbody>\n",
       "</table>\n",
       "</div>"
      ],
      "text/plain": [
       "                               Role  \\\n",
       "415659                    Paralegal   \n",
       "258487          Procurement Analyst   \n",
       "442163  Client Relationship Manager   \n",
       "143736     User Experience Designer   \n",
       "143818            Financial Analyst   \n",
       "\n",
       "                                                 Features  \n",
       "415659  4 to 14 Years Legal Assistant MCA Legal resear...  \n",
       "258487  5 to 9 Years Procurement Manager MBA Procureme...  \n",
       "442163  3 to 8 Years Account Manager M.Com Client rela...  \n",
       "143736  5 to 11 Years UX/UI Designer MCA User-centered...  \n",
       "143818  1 to 8 Years Investment Banker BCA Financial a...  "
      ]
     },
     "execution_count": 42,
     "metadata": {},
     "output_type": "execute_result"
    }
   ],
   "source": [
    "df.head()"
   ]
  },
  {
   "cell_type": "code",
   "execution_count": 44,
   "id": "8af4de5e-78b9-4a3a-b873-0cdcc3555a61",
   "metadata": {},
   "outputs": [],
   "source": [
    "from sklearn.model_selection import train_test_split\n",
    "from sklearn.feature_extraction.text import TfidfVectorizer\n",
    "from sklearn.ensemble import RandomForestClassifier\n",
    "from sklearn.metrics import accuracy_score\n",
    "\n",
    "# Splitting the data into features (X) and target (y)\n",
    "X = df['Features']\n",
    "y = df['Role']\n",
    "\n",
    "# Train-test split\n",
    "X_train, X_test, y_train, y_test = train_test_split(X, y, test_size=0.2, random_state=42)\n",
    "\n",
    "# TF-IDF vectorization\n",
    "tfidf_vectorizer = TfidfVectorizer()\n",
    "X_train_tfidf = tfidf_vectorizer.fit_transform(X_train)\n",
    "X_test_tfidf = tfidf_vectorizer.transform(X_test)"
   ]
  },
  {
   "cell_type": "code",
   "execution_count": 46,
   "id": "f35ef4e3-012b-4558-8ad5-2dfed0a2d98e",
   "metadata": {},
   "outputs": [
    {
     "name": "stdout",
     "output_type": "stream",
     "text": [
      "Accuracy: 1.0\n"
     ]
    }
   ],
   "source": [
    "# RandomForestClassifier\n",
    "rf_classifier = RandomForestClassifier()\n",
    "rf_classifier.fit(X_train_tfidf, y_train)\n",
    "\n",
    "# Predictions\n",
    "y_pred = rf_classifier.predict(X_test_tfidf)\n",
    "\n",
    "# Accuracy\n",
    "accuracy = accuracy_score(y_test, y_pred)\n",
    "print(\"Accuracy:\", accuracy)"
   ]
  },
  {
   "cell_type": "code",
   "execution_count": 52,
   "id": "50d3f821-8299-4e9b-b07f-cf9205acf65b",
   "metadata": {},
   "outputs": [],
   "source": [
    "# Clean resume\n",
    "\n",
    "import re\n",
    "def cleanResume(txt):\n",
    "    cleanText = re.sub(r'http\\S+\\s', ' ', txt)  # Use raw string\n",
    "    cleanText = re.sub(r'RT|cc', ' ', cleanText)\n",
    "    cleanText = re.sub(r'#\\S+', ' ', cleanText)\n",
    "    cleanText = re.sub(r'@\\S+', ' ', cleanText)\n",
    "    \n",
    "    # FIX: Ensure special characters are escaped properly\n",
    "    special_chars = r\"\"\"!\"#$%&'()*+,-./:;<=>?@[\\]^_`{|}~\"\"\"\n",
    "    cleanText = re.sub(r'[%s]' % re.escape(special_chars), ' ', cleanText)\n",
    "\n",
    "    cleanText = re.sub(r'[^\\x00-\\x7F]+', ' ', cleanText)  # Fix non-ASCII character handling\n",
    "    cleanText = re.sub(r'\\s+', ' ', cleanText)  # Fix whitespace handling\n",
    "    return cleanText\n",
    "\n",
    "\n",
    "\n",
    "# Prediction and Category Name\n",
    "def job_recommendation(resume_text):\n",
    "    resume_text= cleanResume(resume_text)\n",
    "    resume_tfidf = tfidf_vectorizer.transform([resume_text])\n",
    "    predicted_category = rf_classifier.predict(resume_tfidf)[0]\n",
    "    return predicted_category"
   ]
  },
  {
   "cell_type": "code",
   "execution_count": 54,
   "id": "ddffc960-bd33-4e94-ac98-bab6b94863a1",
   "metadata": {},
   "outputs": [
    {
     "name": "stdout",
     "output_type": "stream",
     "text": [
      "Predicted Category: Frontend Developer\n"
     ]
    }
   ],
   "source": [
    "# Example Usage\n",
    "resume_file = \"\"\"Objective:\n",
    "A creative and detail-oriented Designer with a passion for visual communication and brand identity seeking opportunities to leverage design skills in a dynamic and collaborative environment.\n",
    "\n",
    "Education:\n",
    "- Bachelor of Fine Arts in Graphic Design, XYZ College, GPA: 3.7/4.0\n",
    "- Diploma in Web Design, ABC Institute, GPA: 3.9/4.0\n",
    "\n",
    "Skills:\n",
    "- Proficient in Adobe Creative Suite (Photoshop, Illustrator, InDesign)\n",
    "- Strong understanding of typography, layout, and color theory\n",
    "- Experience in both print and digital design\n",
    "- Ability to conceptualize and execute design projects from concept to completion\n",
    "- Excellent attention to detail and time management skills\n",
    "\n",
    "Experience:\n",
    "Graphic Designer | XYZ Design Studio\n",
    "- Created visually appealing graphics for various marketing materials, including brochures, flyers, and social media posts\n",
    "- Collaborated with clients to understand their design needs and deliver creative solutions that align with their brand identity\n",
    "- Worked closely with the marketing team to ensure consistency in brand messaging across all platforms\n",
    "\n",
    "Freelance Designer\n",
    "- Designed logos, branding materials, and website layouts for small businesses and startups\n",
    "- Managed multiple projects simultaneously while meeting tight deadlines and maintaining quality standards\n",
    "- Established and maintained strong client relationships through clear communication and exceptional service\n",
    "\n",
    "Projects:\n",
    "- Rebranding Campaign for XYZ Company: Led a team to redesign the company's logo, website, and marketing collateral, resulting in a 30% increase in brand recognition\n",
    "- Packaging Design for ABC Product Launch: Developed eye-catching packaging designs for a new product line, contributing to a successful launch and positive customer feedback\n",
    "\n",
    "Certifications:\n",
    "- Adobe Certified Expert (ACE) in Adobe Illustrator\n",
    "- Responsive Web Design Certification from Udemy\n",
    "\n",
    "Languages:\n",
    "- English (Native)\n",
    "- Spanish (Intermediate)\n",
    "\"\"\"\n",
    "predicted_category = job_recommendation(resume_file)\n",
    "print(\"Predicted Category:\", predicted_category)\n"
   ]
  },
  {
   "cell_type": "code",
   "execution_count": 56,
   "id": "784d88ab-b3d3-4c83-a486-a02412b93701",
   "metadata": {},
   "outputs": [
    {
     "name": "stdout",
     "output_type": "stream",
     "text": [
      "Predicted Category: Financial Analyst\n"
     ]
    }
   ],
   "source": [
    "# Example Usage\n",
    "resume_file = \"\"\"Objective:\n",
    "Dedicated and results-oriented Banking professional with a strong background in financial analysis and customer service seeking opportunities to contribute to a reputable financial institution. Eager to leverage expertise in risk management, investment strategies, and relationship building to drive business growth and client satisfaction.\n",
    "\n",
    "Education:\n",
    "- Bachelor of Business Administration in Finance, XYZ University, GPA: 3.8/4.0\n",
    "- Certified Financial Analyst (CFA) Level I Candidate\n",
    "\n",
    "Skills:\n",
    "- Proficient in financial modeling and analysis using Excel, Bloomberg Terminal, and other financial software\n",
    "- Extensive knowledge of banking products and services, including loans, mortgages, and investment products\n",
    "- Strong understanding of regulatory compliance and risk management practices in the banking industry\n",
    "- Excellent communication and interpersonal skills, with a focus on building rapport with clients and colleagues\n",
    "- Ability to work efficiently under pressure and adapt to changing market conditions\n",
    "\n",
    "Experience:\n",
    "Financial Analyst | ABC Bank\n",
    "- Conducted financial analysis and risk assessment for corporate clients, including credit analysis, financial statement analysis, and cash flow modeling\n",
    "- Developed customized financial solutions to meet clients' needs and objectives, resulting in increased revenue and client retention\n",
    "- Collaborated with cross-functional teams to identify new business opportunities and optimize existing processes\n",
    "\n",
    "Customer Service Representative | DEF Bank\n",
    "- Provided exceptional customer service to bank clients, addressing inquiries, resolving issues, and promoting banking products and services\n",
    "- Processed transactions accurately and efficiently, including deposits, withdrawals, and account transfers\n",
    "- Educated customers on various banking products and services, helping them make informed financial decisions\n",
    "\n",
    "Internship | GHI Investments\n",
    "- Assisted portfolio managers with investment research and analysis, including industry and company-specific research, financial modeling, and performance analysis\n",
    "- Prepared investment presentations and reports for clients, highlighting investment opportunities and performance metrics\n",
    "- Conducted market research and analysis to identify trends and opportunities in the financial markets\n",
    "\n",
    "Certifications:\n",
    "- Certified Financial Planner (CFP)\n",
    "- Series 7 and Series 63 Securities Licenses\n",
    "\n",
    "Languages:\n",
    "- English (Native)\n",
    "- Spanish (Proficient)\n",
    "\n",
    "\"\"\"\n",
    "predicted_category = job_recommendation(resume_file)\n",
    "print(\"Predicted Category:\", predicted_category)"
   ]
  },
  {
   "cell_type": "code",
   "execution_count": 58,
   "id": "eb0260da-c500-4426-880a-09f815ebe02f",
   "metadata": {},
   "outputs": [],
   "source": [
    "import pickle\n",
    "pickle.dump(rf_classifier,open('rf_classifier_job_recommendation.pkl','wb'))\n",
    "pickle.dump(tfidf_vectorizer,open('tfidf_vectorizer_job_recommendation.pkl','wb'))\n",
    " "
   ]
  },
  {
   "cell_type": "code",
   "execution_count": null,
   "id": "9bc61fa6-4fe6-4520-864e-446e630f1ea9",
   "metadata": {},
   "outputs": [],
   "source": []
  }
 ],
 "metadata": {
  "kernelspec": {
   "display_name": "Python 3 (ipykernel)",
   "language": "python",
   "name": "python3"
  },
  "language_info": {
   "codemirror_mode": {
    "name": "ipython",
    "version": 3
   },
   "file_extension": ".py",
   "mimetype": "text/x-python",
   "name": "python",
   "nbconvert_exporter": "python",
   "pygments_lexer": "ipython3",
   "version": "3.12.4"
  }
 },
 "nbformat": 4,
 "nbformat_minor": 5
}
